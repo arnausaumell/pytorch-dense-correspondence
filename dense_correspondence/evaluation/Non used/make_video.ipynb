{
 "cells": [
  {
   "cell_type": "code",
   "execution_count": 1,
   "metadata": {},
   "outputs": [],
   "source": [
    "%matplotlib inline\n",
    "\n",
    "import random\n",
    "import numpy as np\n",
    "import matplotlib.pyplot as plt\n",
    "import os\n",
    "import cv2\n",
    "import torch\n",
    "import dense_correspondence_manipulation.utils.utils as utils\n",
    "utils.add_dense_correspondence_to_python_path()\n",
    "\n",
    "import dense_correspondence\n",
    "from dense_correspondence.evaluation.evaluation import *\n",
    "import dense_correspondence.correspondence_tools.correspondence_plotter as correspondence_plotter\n",
    "from dense_correspondence.dataset.dense_correspondence_dataset_masked import ImageType"
   ]
  },
  {
   "cell_type": "code",
   "execution_count": 2,
   "metadata": {},
   "outputs": [
    {
     "name": "stdout",
     "output_type": "stream",
     "text": [
      "setting CUDA_VISIBLE_DEVICES =  0,1,2,3,4,5,6,7,\n"
     ]
    },
    {
     "name": "stderr",
     "output_type": "stream",
     "text": [
      "Downloading: \"https://download.pytorch.org/models/resnet34-333f7ec4.pth\" to /home/priya/.cache/torch/checkpoints/resnet34-333f7ec4.pth\n",
      "100.0%\n"
     ]
    },
    {
     "name": "stdout",
     "output_type": "stream",
     "text": [
      "Using SpartanDataset:\n",
      "   - in train mode\n",
      "   - number of scenes 1\n",
      "   - total images:     3600\n"
     ]
    }
   ],
   "source": [
    "config_filename = os.path.join(utils.getDenseCorrespondenceSourceDir(), 'config', \n",
    "                               'dense_correspondence', 'evaluation', 'evaluation.yaml')\n",
    "config = utils.getDictFromYamlFilename(config_filename)\n",
    "default_config = utils.get_defaults_config()\n",
    "\n",
    "\n",
    "utils.set_cuda_visible_devices([0, 1, 2, 3, 4, 5, 6, 7])\n",
    "dce = DenseCorrespondenceEvaluation(config)\n",
    "DCE = DenseCorrespondenceEvaluation\n",
    "\n",
    "\n",
    "# network_name = \"shoes_consistent_M_background_1.000_3\"\n",
    "\n",
    "\n",
    "\n",
    "log_list = []\n",
    "\n",
    "\n",
    "\n",
    "# log_list = [\"2018-05-18-15-57-44\"] # many shoes\n",
    "\n",
    "\n",
    "\n",
    "\n",
    "\n",
    "# mugs\n",
    "network_name = \"rope_noisy_1400_depth_norm_3\"\n",
    "# log_list.append(\"2018-05-18-16-26-26\") # many mugs, moving robot\n",
    "log_list.append(\"rope_noisy_1400_test\") # may mugs, stationary robot\n",
    "\n",
    "\n",
    "# shoes\n",
    "# log_list.append(\"2018-05-18-16-29-42\") # many shoes\n",
    " \n",
    "# hats\n",
    "# log_list.append(\"2018-05-18-16-22-08\") # many hats\n",
    "\n",
    "\n",
    "\n",
    "\n",
    "\n",
    "\n",
    "\n",
    "\n",
    "\n",
    "dcn = dce.load_network_from_config(network_name)\n",
    "dcn.eval()\n",
    "dataset = dcn.load_training_dataset()"
   ]
  },
  {
   "cell_type": "code",
   "execution_count": 3,
   "metadata": {},
   "outputs": [],
   "source": [
    "from PIL import Image\n",
    "from plotting import normalize_descriptor\n",
    "import time\n",
    "\n",
    "## Usage:\n",
    "## set the network above\n",
    "## set the full_rgb_only_path in last cell of notebook (if you'd like can use log_list too)\n",
    "## run the full notebook\n",
    "\n",
    "descriptor_image_stats = dcn.descriptor_image_stats\n",
    "\n",
    "def make_descriptors_images(log_folder, save_images_dir, make_masked_video=False):\n",
    "    image_folder = rgb_filename = os.path.join(log_folder, \"real/images\")\n",
    "    for img_file in sorted(os.listdir(image_folder)):\n",
    "        #print i\n",
    "        start = time.time()\n",
    "        if \"rgb.png\" not in img_file:\n",
    "            continue\n",
    "        \n",
    "        idx_str = img_file.split(\"_rgb\")[0]\n",
    "        img_file_fullpath = os.path.join(image_folder, img_file)\n",
    "        rgb_a = Image.open(img_file_fullpath).convert('RGB')\n",
    "\n",
    "        # compute dense descriptors\n",
    "        # This takes in a PIL image!\n",
    "        rgb_a_tensor = dataset.rgb_image_to_tensor(rgb_a)\n",
    "\n",
    "        # these are Variables holding torch.FloatTensors, first grab the data, then convert to numpy\n",
    "        res_a = dcn.forward_single_image_tensor(rgb_a_tensor).data.cpu().numpy()\n",
    "        res_a = normalize_descriptor(res_a, descriptor_image_stats[\"mask_image\"])\n",
    "\n",
    "        # This chunk of code would produce masked descriptors\n",
    "        # MASK\n",
    "        if make_masked_video:\n",
    "            mask_name = idx_str + \"_mask.png\"\n",
    "            mask_filename = os.path.join(log_folder, \"processed\", \"image_masks\", mask_name)\n",
    "            mask = cv2.imread(mask_filename, 0)\n",
    "            #mask_three_channel = np.zeros((480,640,3))\n",
    "            #for j in range(3):\n",
    "             #   mask_three_channel[:,:,j] = mask\n",
    "            res_a_masked = cv2.bitwise_and(res_a,res_a,mask = mask)\n",
    "#             print mask.shape, res_a_masked.shape\n",
    "#             res_a_masked = res_a * mask\n",
    "            #res_a_masked = res_a * mask_three_channel\n",
    "\n",
    "        \n",
    "        \n",
    "        # save rgb image, descriptor image, masked descriptor image\n",
    "        \n",
    "        save_file_name = os.path.join(save_images_dir, idx_str + \"_res.png\")\n",
    "        plt.imsave(save_file_name, res_a_masked)\n",
    "        print \"forward and saving at rate\", time.time()-start"
   ]
  },
  {
   "cell_type": "code",
   "execution_count": 4,
   "metadata": {},
   "outputs": [],
   "source": [
    "def make_videos(log_folder, save_images_dir, make_masked_video=False):\n",
    "    # make an rgb only dir\n",
    "    log_name = os.path.basename(log_folder)\n",
    "    print \"log_name\", log_name\n",
    "    processed_folder = os.path.join(log_folder, 'processed')\n",
    "    videos_folder = os.path.join(processed_folder, 'videos')\n",
    "    if not os.path.isdir(videos_folder):\n",
    "        os.makedirs(videos_folder)\n",
    "    \n",
    "    \n",
    "    \n",
    "#     rgb_only_path = os.path.join(os.path.dirname(full_rgb_only_path),\"rgb_only\")\n",
    "#     os.system(\"mkdir -p \"+ rgb_only_path)\n",
    "#     os.system(\"cp \"+full_rgb_only_path+\"/*rgb.png \"+ rgb_only_path)\n",
    "    \n",
    "    # make descriptor video\n",
    "    print \"making descriptor video\"\n",
    "    video_des = log_name + \"_video_descriptors.mp4\"\n",
    "    video_des_full_filename = os.path.join(videos_folder, video_des)\n",
    "    os.chdir(save_images_dir)\n",
    "    cmd = \"ffmpeg -framerate 30 -pattern_type glob -i '*res.png' -c:v libx264 -r 30 \"\\\n",
    "              + video_des_full_filename\n",
    "        \n",
    "    print \"descriptor video command:\\n\", cmd\n",
    "    os.system(cmd)\n",
    "    print \"done making descriptors\"\n",
    "    \n",
    "    # make rgb video\n",
    "    # save it in log_folder/processed/videos\n",
    "    print \"making rgb video\"\n",
    "    os.chdir(save_images_dir)\n",
    "    video_rgb = log_name + \"_video_rgb.mp4\"\n",
    "    video_rgb_full_filename = os.path.join(videos_folder, video_rgb)\n",
    "    \n",
    "    rgb_images_folder = os.path.join(processed_folder, 'real_images')\n",
    "    print \"rgb_images_folder\", rgb_images_folder\n",
    "    os.chdir(rgb_images_folder)\n",
    "    cmd = \"ffmpeg -framerate 30 -pattern_type glob -i '*rgb.png' -c:v libx264 -r 30 \" + video_rgb_full_filename\n",
    "        \n",
    "    print \"rgb video command:\\n\", cmd\n",
    "    os.system(cmd)\n",
    "    \n",
    "    \n",
    "    # make rgb video mac friendly\n",
    "    os.chdir(videos_folder)\n",
    "    cmd = \"ffmpeg \\\n",
    "      -i \"+ video_rgb + \" -pix_fmt yuv420p \" + video_rgb.split(\".mp4\")[0]+\"_mac.mp4\"\n",
    "    print cmd\n",
    "    os.system(cmd)\n",
    "    \n",
    "    # make descriptor video mac friendly\n",
    "    os.chdir(videos_folder)\n",
    "    cmd = \"ffmpeg \\\n",
    "      -i \"+ video_des + \" -pix_fmt yuv420p \"+ video_des.split(\".mp4\")[0] + \"_mac.mp4\"\n",
    "    os.system(cmd)\n",
    "    \n",
    "    \n",
    "    # merge the videos!\n",
    "    os.chdir(videos_folder)\n",
    "    cmd = \"ffmpeg \\\n",
    "      -i \"+ video_rgb +\" \\\n",
    "      -i \"+ video_des +\"\\\n",
    "      -filter_complex '[0:v]pad=iw*2:ih[int];[int][1:v]overlay=W/2:0[vid]' \\\n",
    "      -map [vid] \\\n",
    "      -c:v libx264 \\\n",
    "      -crf 23 \\\n",
    "      -preset veryfast \\\n",
    "      output_\" + log_name + \".mp4\"\n",
    "\n",
    "    print cmd\n",
    "    os.system(cmd)"
   ]
  },
  {
   "cell_type": "code",
   "execution_count": 5,
   "metadata": {
    "scrolled": true
   },
   "outputs": [
    {
     "name": "stdout",
     "output_type": "stream",
     "text": [
      "save_images_dir /home/priya/code/data_volume/pdc_synthetic_2/logs_proto/rope_noisy_1400_test/processed/video_images\n"
     ]
    },
    {
     "name": "stderr",
     "output_type": "stream",
     "text": [
      "/usr/local/lib/python2.7/dist-packages/torch/nn/functional.py:2562: UserWarning: nn.functional.upsample_bilinear is deprecated. Use nn.functional.interpolate instead.\n",
      "  warnings.warn(\"nn.functional.upsample_bilinear is deprecated. Use nn.functional.interpolate instead.\")\n"
     ]
    },
    {
     "name": "stdout",
     "output_type": "stream",
     "text": [
      "normalizing descriptor norm\n"
     ]
    },
    {
     "ename": "error",
     "evalue": "OpenCV(4.1.0) /io/opencv/modules/core/src/arithm.cpp:245: error: (-215:Assertion failed) (mtype == CV_8U || mtype == CV_8S) && _mask.sameSize(*psrc1) in function 'binary_op'\n",
     "output_type": "error",
     "traceback": [
      "\u001b[0;31m---------------------------------------------------------------------------\u001b[0m",
      "\u001b[0;31merror\u001b[0m                                     Traceback (most recent call last)",
      "\u001b[0;32m<ipython-input-5-7e7baf4c5513>\u001b[0m in \u001b[0;36m<module>\u001b[0;34m()\u001b[0m\n\u001b[1;32m      9\u001b[0m     \u001b[0;32mprint\u001b[0m \u001b[0;34m\"save_images_dir\"\u001b[0m\u001b[0;34m,\u001b[0m \u001b[0msave_images_dir\u001b[0m\u001b[0;34m\u001b[0m\u001b[0m\n\u001b[1;32m     10\u001b[0m \u001b[0;34m\u001b[0m\u001b[0m\n\u001b[0;32m---> 11\u001b[0;31m     \u001b[0mmake_descriptors_images\u001b[0m\u001b[0;34m(\u001b[0m\u001b[0mlog_folder\u001b[0m\u001b[0;34m,\u001b[0m \u001b[0msave_images_dir\u001b[0m\u001b[0;34m,\u001b[0m \u001b[0mmake_masked_video\u001b[0m\u001b[0;34m=\u001b[0m\u001b[0mTrue\u001b[0m\u001b[0;34m)\u001b[0m\u001b[0;34m\u001b[0m\u001b[0m\n\u001b[0m\u001b[1;32m     12\u001b[0m \u001b[0;31m#     make_videos(log_folder, save_images_dir, make_masked_video=make_masked_video)\u001b[0m\u001b[0;34m\u001b[0m\u001b[0;34m\u001b[0m\u001b[0m\n",
      "\u001b[0;32m<ipython-input-3-afd5cc93930e>\u001b[0m in \u001b[0;36mmake_descriptors_images\u001b[0;34m(log_folder, save_images_dir, make_masked_video)\u001b[0m\n\u001b[1;32m     39\u001b[0m             \u001b[0;31m#for j in range(3):\u001b[0m\u001b[0;34m\u001b[0m\u001b[0;34m\u001b[0m\u001b[0m\n\u001b[1;32m     40\u001b[0m              \u001b[0;31m#   mask_three_channel[:,:,j] = mask\u001b[0m\u001b[0;34m\u001b[0m\u001b[0;34m\u001b[0m\u001b[0m\n\u001b[0;32m---> 41\u001b[0;31m             \u001b[0mres_a_masked\u001b[0m \u001b[0;34m=\u001b[0m \u001b[0mcv2\u001b[0m\u001b[0;34m.\u001b[0m\u001b[0mbitwise_and\u001b[0m\u001b[0;34m(\u001b[0m\u001b[0mres_a\u001b[0m\u001b[0;34m,\u001b[0m\u001b[0mres_a\u001b[0m\u001b[0;34m,\u001b[0m\u001b[0mmask\u001b[0m \u001b[0;34m=\u001b[0m \u001b[0mmask\u001b[0m\u001b[0;34m)\u001b[0m\u001b[0;34m\u001b[0m\u001b[0m\n\u001b[0m\u001b[1;32m     42\u001b[0m \u001b[0;31m#             print mask.shape, res_a_masked.shape\u001b[0m\u001b[0;34m\u001b[0m\u001b[0;34m\u001b[0m\u001b[0m\n\u001b[1;32m     43\u001b[0m \u001b[0;31m#             res_a_masked = res_a * mask\u001b[0m\u001b[0;34m\u001b[0m\u001b[0;34m\u001b[0m\u001b[0m\n",
      "\u001b[0;31merror\u001b[0m: OpenCV(4.1.0) /io/opencv/modules/core/src/arithm.cpp:245: error: (-215:Assertion failed) (mtype == CV_8U || mtype == CV_8S) && _mask.sameSize(*psrc1) in function 'binary_op'\n"
     ]
    }
   ],
   "source": [
    "logs_special_prefix = \"/home/priya/code/data_volume/pdc_synthetic_2/logs_proto/\"\n",
    "make_masked_video = True\n",
    "\n",
    "for log in log_list:\n",
    "    log_folder = os.path.join(logs_special_prefix, log)\n",
    "    save_images_dir = os.path.join(log_folder, \"processed\", \"video_images\")\n",
    "    if not os.path.isdir(save_images_dir):\n",
    "        os.makedirs(save_images_dir)\n",
    "    print \"save_images_dir\", save_images_dir\n",
    "    \n",
    "    make_descriptors_images(log_folder, save_images_dir, make_masked_video=True)\n",
    "#     make_videos(log_folder, save_images_dir, make_masked_video=make_masked_video)"
   ]
  },
  {
   "cell_type": "code",
   "execution_count": 5,
   "metadata": {},
   "outputs": [],
   "source": [
    "# sandboxing\n",
    "#os.system(\"cd /media/peteflo/3TBbackup/dense_correspondence/pdc/logs_proto/2018-04-10-16-13-37/processed && ffmpeg -i /media/peteflo/3TBbackup/dense_correspondence/pdc/logs_proto/2018-04-10-16-13-37/processed/rgb_only/2018-04-10-16-13-37_video_rgb.mp4   -c:v libx264       -crf 23       -preset veryfast /media/peteflo/3TBbackup/dense_correspondence/pdc/logs_proto/2018-04-10-16-13-37/processed/rgb_only/2018-04-10-16-13-37_video_rgb_2.mp4\")"
   ]
  },
  {
   "cell_type": "code",
   "execution_count": 122,
   "metadata": {},
   "outputs": [],
   "source": [
    "# os.system(\"cd /media/peteflo/3TBbackup/dense_correspondence/pdc/logs_proto/2018-04-10-16-14-41/processed && ffmpeg       -i /media/peteflo/3TBbackup/dense_correspondence/pdc/logs_proto/2018-04-10-16-14-41/processed/rgb_only/2018-04-10-16-14-41_video_rgb.mp4 -pix_fmt yuv420p /media/peteflo/3TBbackup/dense_correspondence/pdc/logs_proto/2018-04-10-16-14-41/processed/rgb_only/2018-04-10-16-14-41_video_rgb_2.mp4\")"
   ]
  },
  {
   "cell_type": "code",
   "execution_count": null,
   "metadata": {},
   "outputs": [],
   "source": []
  }
 ],
 "metadata": {
  "kernelspec": {
   "display_name": "Python 2",
   "language": "python",
   "name": "python2"
  },
  "language_info": {
   "codemirror_mode": {
    "name": "ipython",
    "version": 2
   },
   "file_extension": ".py",
   "mimetype": "text/x-python",
   "name": "python",
   "nbconvert_exporter": "python",
   "pygments_lexer": "ipython2",
   "version": "2.7.12"
  }
 },
 "nbformat": 4,
 "nbformat_minor": 2
}
