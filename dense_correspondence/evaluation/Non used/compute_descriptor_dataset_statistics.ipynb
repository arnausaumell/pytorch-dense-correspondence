{
 "cells": [
  {
   "cell_type": "markdown",
   "metadata": {},
   "source": [
    "## Compute descriptor statistics on dataset\n",
    "This notebook computes the staistics of the descriptor on a given dataset"
   ]
  },
  {
   "cell_type": "code",
   "execution_count": 1,
   "metadata": {},
   "outputs": [],
   "source": [
    "import numpy as np\n",
    "import time\n",
    "import os\n",
    "import matplotlib.pyplot as plt\n",
    "\n",
    "import dense_correspondence_manipulation.utils.utils as utils\n",
    "utils.add_dense_correspondence_to_python_path()\n",
    "\n",
    "from torchvision import transforms\n",
    "import torch\n",
    "\n",
    "from dense_correspondence.dataset.spartan_dataset_masked import SpartanDataset\n",
    "from dense_correspondence.dataset.dense_correspondence_dataset_masked import ImageType\n",
    "from dense_correspondence.evaluation.evaluation import *\n",
    "\n",
    "DCE = DenseCorrespondenceEvaluation"
   ]
  },
  {
   "cell_type": "code",
   "execution_count": 2,
   "metadata": {},
   "outputs": [
    {
     "data": {
      "application/javascript": [
       "IPython.OutputArea.auto_scroll_threshold = 9999;"
      ],
      "text/plain": [
       "<IPython.core.display.Javascript object>"
      ]
     },
     "metadata": {},
     "output_type": "display_data"
    }
   ],
   "source": [
    "%%javascript\n",
    "IPython.OutputArea.auto_scroll_threshold = 9999;"
   ]
  },
  {
   "cell_type": "code",
   "execution_count": 3,
   "metadata": {},
   "outputs": [
    {
     "name": "stdout",
     "output_type": "stream",
     "text": [
      "torch.Size([1000, 512])\n"
     ]
    },
    {
     "name": "stderr",
     "output_type": "stream",
     "text": [
      "Downloading: \"https://download.pytorch.org/models/resnet34-333f7ec4.pth\" to /home/priya/.cache/torch/checkpoints/resnet34-333f7ec4.pth\n",
      "100.0%\n"
     ]
    },
    {
     "name": "stdout",
     "output_type": "stream",
     "text": [
      "Using SpartanDataset:\n",
      "   - in train mode\n",
      "   - number of scenes 9\n",
      "   - total images:     3730\n",
      "setting CUDA_VISIBLE_DEVICES =  0,\n"
     ]
    }
   ],
   "source": [
    "config_filename = os.path.join(utils.getDenseCorrespondenceSourceDir(), 'config', \n",
    "                               'dense_correspondence', 'evaluation', 'evaluation.yaml')\n",
    "config = utils.getDictFromYamlFilename(config_filename)\n",
    "default_config = utils.get_defaults_config()\n",
    "\n",
    "dce = DenseCorrespondenceEvaluation(config)\n",
    "\n",
    "# Note: you must have a network with this name in your evaluation.yaml\n",
    "network_name = \"caterpillar_3\"\n",
    "dcn = dce.load_network_from_config(network_name)\n",
    "dataset = dcn.load_training_dataset()\n",
    "\n",
    "utils.set_cuda_visible_devices(default_config['cuda_visible_devices'])"
   ]
  },
  {
   "cell_type": "code",
   "execution_count": 4,
   "metadata": {},
   "outputs": [
    {
     "name": "stderr",
     "output_type": "stream",
     "text": [
      "/usr/local/lib/python2.7/dist-packages/torch/nn/functional.py:2622: UserWarning: nn.functional.upsample_bilinear is deprecated. Use nn.functional.interpolate instead.\n",
      "  warnings.warn(\"nn.functional.upsample_bilinear is deprecated. Use nn.functional.interpolate instead.\")\n"
     ]
    },
    {
     "name": "stdout",
     "output_type": "stream",
     "text": [
      "computing stats took 15 seconds\n",
      "entire img min [-2.226985454559326, -2.419100284576416, -1.1790121793746948]\n",
      "entire img max [1.2574267387390137, 1.3853521347045898, 1.6814521551132202]\n",
      "mask img min [-0.6185818314552307, -0.842408299446106, -1.1790121793746948]\n",
      "mask img max [1.2574267387390137, 1.3853521347045898, 0.7942546606063843]\n"
     ]
    }
   ],
   "source": [
    "start_time = time.time()\n",
    "stats = DCE.compute_descriptor_statistics_on_dataset(dcn, dataset, num_images=100, save_to_file=True)\n",
    "elapsed = time.time() - start_time\n",
    "print \"computing stats took %d seconds\" %(elapsed)\n",
    "\n",
    "\n",
    "print \"entire img min\", stats['entire_image']['min']\n",
    "print \"entire img max\", stats['entire_image']['max']\n",
    "\n",
    "print \"mask img min\", stats['mask_image']['min']\n",
    "print \"mask img max\", stats['mask_image']['max']"
   ]
  },
  {
   "cell_type": "code",
   "execution_count": null,
   "metadata": {},
   "outputs": [],
   "source": []
  }
 ],
 "metadata": {
  "kernelspec": {
   "display_name": "Python 2",
   "language": "python",
   "name": "python2"
  },
  "language_info": {
   "codemirror_mode": {
    "name": "ipython",
    "version": 2
   },
   "file_extension": ".py",
   "mimetype": "text/x-python",
   "name": "python",
   "nbconvert_exporter": "python",
   "pygments_lexer": "ipython2",
   "version": "2.7.12"
  }
 },
 "nbformat": 4,
 "nbformat_minor": 2
}
