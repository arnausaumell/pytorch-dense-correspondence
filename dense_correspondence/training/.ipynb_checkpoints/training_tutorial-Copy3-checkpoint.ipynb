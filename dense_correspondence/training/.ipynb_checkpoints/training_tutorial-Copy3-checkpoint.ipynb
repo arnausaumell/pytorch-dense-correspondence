{
 "cells": [
  {
   "cell_type": "code",
   "execution_count": 4,
   "metadata": {},
   "outputs": [
    {
     "name": "stdout",
     "output_type": "stream",
     "text": [
      "setting CUDA_VISIBLE_DEVICES =  0,2,\n"
     ]
    }
   ],
   "source": [
    "import os, sys\n",
    "sys.path.append(os.getcwd() + \"/../../modules\")\n",
    "sys.path.append(os.getcwd() + \"/../../external\")\n",
    "sys.path.append(os.getcwd() + \"/../..\")\n",
    "sys.path.append(os.getcwd() + \"/../dataset\")\n",
    "\n",
    "import dense_correspondence_manipulation.utils.utils as utils\n",
    "utils.add_dense_correspondence_to_python_path()\n",
    "from dense_correspondence.training.training import *\n",
    "import sys\n",
    "import logging\n",
    "import time\n",
    "\n",
    "# utils.set_default_cuda_visible_devices()\n",
    "utils.set_cuda_visible_devices([0, 2]) # use this to manually set CUDA_VISIBLE_DEVICES\n",
    "\n",
    "from dense_correspondence.training.training import DenseCorrespondenceTraining\n",
    "from dense_correspondence.dataset.spartan_dataset_masked import SpartanDataset\n",
    "from dense_correspondence.evaluation.evaluation import DenseCorrespondenceEvaluation\n",
    "logging.basicConfig(level=logging.INFO)\n"
   ]
  },
  {
   "cell_type": "markdown",
   "metadata": {},
   "source": [
    "## Load the configuration for training"
   ]
  },
  {
   "cell_type": "code",
   "execution_count": 5,
   "metadata": {},
   "outputs": [
    {
     "name": "stderr",
     "output_type": "stream",
     "text": [
      "INFO:root:Loading knots info for scene shirt_hanging\n"
     ]
    },
    {
     "name": "stdout",
     "output_type": "stream",
     "text": [
      "Using SpartanDataset:\n",
      "   - in train mode\n",
      "   - number of scenes 1\n",
      "   - total images:     1500\n",
      "\n",
      "Model name: shirt_hanging_d9_contrastive_sym\n"
     ]
    }
   ],
   "source": [
    "dc_source_dir = utils.getDenseCorrespondenceSourceDir()\n",
    "\n",
    "dataset_name = 'shirt_hanging'\n",
    "config_filename = os.path.join(dc_source_dir, 'config/dense_correspondence/dataset/composite/%s.yaml' % dataset_name)\n",
    "config = utils.getDictFromYamlFilename(config_filename)\n",
    "\n",
    "train_config_file = os.path.join(dc_source_dir, 'config/dense_correspondence/training/training.yaml')\n",
    "train_config = utils.getDictFromYamlFilename(train_config_file)\n",
    "\n",
    "dataset = SpartanDataset(config=config)\n",
    "\n",
    "logging_dir = os.path.join(dc_source_dir, \"pdc/trained_models/tutorials\")\n",
    "\n",
    "# fixed params\n",
    "loss_type = 'contrastive'\n",
    "normalize = True\n",
    "lr = 1.0e-4\n",
    "sigma = 1\n",
    "net_type = 'resnet34'\n",
    "symmetry = False\n",
    "height, width = dataset.get_height_and_width()\n",
    "\n",
    "# tunable params\n",
    "num_iterations = 5000\n",
    "d = 9\n",
    "\n",
    "name = \"%s_d%d_%s_%s\" % (dataset_name, d, loss_type, 'sym' if symmetry else 'non_sym')\n",
    "print(\"\\nModel name:\", name)\n",
    "\n",
    "train_config[\"training\"][\"logging_dir_name\"] = name\n",
    "train_config[\"training\"][\"logging_dir\"] = logging_dir\n",
    "train_config[\"training\"][\"num_iterations\"] = num_iterations\n",
    "train_config[\"training\"][\"learning_rate\"] = lr\n",
    "train_config[\"dense_correspondence_network\"][\"descriptor_dimension\"] = d\n",
    "train_config[\"dense_correspondence_network\"][\"normalize\"] = normalize\n",
    "train_config[\"dense_correspondence_network\"][\"loss_type\"] = loss_type\n",
    "train_config[\"dense_correspondence_network\"][\"sigma\"] = sigma\n",
    "train_config[\"dense_correspondence_network\"][\"net_type\"] = net_type\n",
    "train_config[\"dense_correspondence_network\"][\"image_width\"] = width\n",
    "train_config[\"dense_correspondence_network\"][\"image_height\"] = height\n",
    "train_config[\"dense_correspondence_network\"][\"symmetry\"] = symmetry\n",
    "\n",
    "TRAIN = True\n",
    "EVALUATE = True"
   ]
  },
  {
   "cell_type": "markdown",
   "metadata": {},
   "source": [
    "## TRAIN"
   ]
  },
  {
   "cell_type": "code",
   "execution_count": null,
   "metadata": {
    "scrolled": true
   },
   "outputs": [
    {
     "name": "stderr",
     "output_type": "stream",
     "text": [
      "INFO:root:enabling domain randomization\n"
     ]
    },
    {
     "name": "stdout",
     "output_type": "stream",
     "text": [
      "training descriptor of dimension 9\n",
      "using SINGLE_OBJECT_WITHIN_SCENE\n"
     ]
    },
    {
     "name": "stderr",
     "output_type": "stream",
     "text": [
      "INFO:root:setting up tensorboard_logger\n",
      "INFO:root:tensorboard logger started\n",
      "INFO:root:Loading knots info for scene shirt_canonical\n",
      "INFO:root:Loading knots info for scene shirt_canonical\n",
      "INFO:root:Loading knots info for scene shirt_canonical\n",
      "INFO:root:Loading knots info for scene shirt_canonical\n",
      "INFO:root:Loading knots info for scene shirt_canonical\n",
      "INFO:root:Training on iteration 10 of 5000\n",
      "INFO:root:single iteration took 0.092 seconds\n",
      "INFO:root:Training is 0 percent complete\n",
      "\n",
      "INFO:root:Training on iteration 20 of 5000\n",
      "INFO:root:single iteration took 0.103 seconds\n",
      "INFO:root:Training is 0 percent complete\n",
      "\n"
     ]
    }
   ],
   "source": [
    "if TRAIN:\n",
    "    start = time.time()\n",
    "    print(\"training descriptor of dimension %d\" %(d))\n",
    "    train = DenseCorrespondenceTraining(dataset=dataset, config=train_config)\n",
    "    train.run()\n",
    "    print(\"finished training descriptor of dimension %d\" %(d))\n",
    "    print(\"training took %d seconds\" %(time.time() - start))"
   ]
  },
  {
   "cell_type": "code",
   "execution_count": null,
   "metadata": {},
   "outputs": [],
   "source": [
    "# t = torch.cuda.get_device_properties(0).total_memory\n",
    "# r = torch.cuda.memory_reserved(0)\n",
    "# a = torch.cuda.memory_allocated(0)\n",
    "# f = r-a  # free inside reserved\n",
    "# print('Current cuda device ID:', torch.cuda.current_device())\n",
    "# print('Total memory available:', t/1e9, 'GB')\n",
    "# print('Reserved memory:       ', r/1e9, 'GB')\n",
    "# print('Allocated memory:      ', a/1e9, 'GB')\n",
    "# print('Memory to use:         ', f/1e9, 'GB') "
   ]
  },
  {
   "cell_type": "code",
   "execution_count": null,
   "metadata": {},
   "outputs": [],
   "source": [
    "import matplotlib.pyplot as plt\n",
    "\n",
    "config_filename = os.path.join(logging_dir, name, utils.getPaddedString(num_iterations, width=6) + '_log_history.yaml')\n",
    "config = utils.getDictFromYamlFilename(config_filename)\n",
    "\n",
    "fig, ax = plt.subplots(nrows=1, ncols=1, figsize=(15,5))\n",
    "ax.plot(config['train']['total_loss'])\n",
    "ax.set_title('Total_loss ' + name)\n",
    "# ax.set_ylim([0, 700])\n",
    "\n",
    "plt.tight_layout()"
   ]
  },
  {
   "cell_type": "markdown",
   "metadata": {},
   "source": [
    "## EVAL"
   ]
  },
  {
   "cell_type": "code",
   "execution_count": null,
   "metadata": {},
   "outputs": [],
   "source": [
    "if EVALUATE:\n",
    "    model_folder = os.path.join(logging_dir, name)\n",
    "    model_folder = utils.convert_to_absolute_path(model_folder)\n",
    "    DCE = DenseCorrespondenceEvaluation\n",
    "    num_image_pairs = 100\n",
    "    DCE.run_evaluation_on_network(model_folder, num_image_pairs=num_image_pairs)      "
   ]
  }
 ],
 "metadata": {
  "kernelspec": {
   "display_name": "Python 3 (ipykernel)",
   "language": "python",
   "name": "python3"
  },
  "language_info": {
   "codemirror_mode": {
    "name": "ipython",
    "version": 3
   },
   "file_extension": ".py",
   "mimetype": "text/x-python",
   "name": "python",
   "nbconvert_exporter": "python",
   "pygments_lexer": "ipython3",
   "version": "3.8.13"
  },
  "latex_envs": {
   "LaTeX_envs_menu_present": true,
   "autoclose": false,
   "autocomplete": true,
   "bibliofile": "biblio.bib",
   "cite_by": "apalike",
   "current_citInitial": 1,
   "eqLabelWithNumbers": true,
   "eqNumInitial": 1,
   "hotkeys": {
    "equation": "Ctrl-E",
    "itemize": "Ctrl-I"
   },
   "labels_anchors": false,
   "latex_user_defs": false,
   "report_style_numbering": false,
   "user_envs_cfg": false
  },
  "toc": {
   "base_numbering": 1,
   "nav_menu": {},
   "number_sections": true,
   "sideBar": true,
   "skip_h1_title": false,
   "title_cell": "Table of Contents",
   "title_sidebar": "Contents",
   "toc_cell": false,
   "toc_position": {},
   "toc_section_display": true,
   "toc_window_display": false
  },
  "vscode": {
   "interpreter": {
    "hash": "df869e39cae97ae8d651af83bc478ba11443c99508d134ce99c1a444bc702acb"
   }
  }
 },
 "nbformat": 4,
 "nbformat_minor": 2
}
