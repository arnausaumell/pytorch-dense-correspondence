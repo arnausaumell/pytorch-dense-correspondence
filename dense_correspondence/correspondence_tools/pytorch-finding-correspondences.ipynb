{
 "cells": [
  {
   "cell_type": "markdown",
   "metadata": {},
   "source": [
    "## Demo of finding correspondences\n",
    "\n",
    "- Demos generating correspondences in PyTorch\n",
    "- Simple timing experiments in pytorch\n",
    "- Demos generating non-correspondences"
   ]
  },
  {
   "cell_type": "markdown",
   "metadata": {},
   "source": [
    "## Find pixel correspondences in PyTorch"
   ]
  },
  {
   "cell_type": "code",
   "execution_count": 1,
   "metadata": {},
   "outputs": [
    {
     "name": "stdout",
     "output_type": "stream",
     "text": [
      "Using SpartanDataset:\n",
      "   - in train mode\n",
      "   - number of scenes 17\n",
      "   - total images:     3730\n"
     ]
    },
    {
     "ename": "IOError",
     "evalue": "[Errno 2] No such file or directory: '/home/priya/code/data_volume/pdc/logs_proto/2018-04-10-16-02-59/processed/images/pose_data.yaml'",
     "output_type": "error",
     "traceback": [
      "\u001b[0;31m---------------------------------------------------------------------------\u001b[0m",
      "\u001b[0;31mIOError\u001b[0m                                   Traceback (most recent call last)",
      "\u001b[0;32m<ipython-input-1-07c52b676f56>\u001b[0m in \u001b[0;36m<module>\u001b[0;34m()\u001b[0m\n\u001b[1;32m     18\u001b[0m \u001b[0;34m\u001b[0m\u001b[0m\n\u001b[1;32m     19\u001b[0m \u001b[0mscene\u001b[0m \u001b[0;34m=\u001b[0m \u001b[0;34m\"2018-04-10-16-02-59\"\u001b[0m\u001b[0;34m\u001b[0m\u001b[0m\n\u001b[0;32m---> 20\u001b[0;31m \u001b[0mimg_a_index\u001b[0m \u001b[0;34m=\u001b[0m \u001b[0mdataset\u001b[0m\u001b[0;34m.\u001b[0m\u001b[0mget_random_image_index\u001b[0m\u001b[0;34m(\u001b[0m\u001b[0mscene\u001b[0m\u001b[0;34m)\u001b[0m\u001b[0;34m\u001b[0m\u001b[0m\n\u001b[0m\u001b[1;32m     21\u001b[0m \u001b[0mimg_a_rgb\u001b[0m\u001b[0;34m,\u001b[0m \u001b[0mimg_a_depth\u001b[0m\u001b[0;34m,\u001b[0m \u001b[0m_\u001b[0m\u001b[0;34m,\u001b[0m \u001b[0mimg_a_pose\u001b[0m \u001b[0;34m=\u001b[0m \u001b[0mdataset\u001b[0m\u001b[0;34m.\u001b[0m\u001b[0mget_rgbd_mask_pose\u001b[0m\u001b[0;34m(\u001b[0m\u001b[0mscene\u001b[0m\u001b[0;34m,\u001b[0m \u001b[0mimg_a_index\u001b[0m\u001b[0;34m)\u001b[0m\u001b[0;34m\u001b[0m\u001b[0m\n\u001b[1;32m     22\u001b[0m \u001b[0;34m\u001b[0m\u001b[0m\n",
      "\u001b[0;32m/home/priya/code/dense_correspondence/dataset/spartan_dataset_masked.pyc\u001b[0m in \u001b[0;36mget_random_image_index\u001b[0;34m(self, scene_name)\u001b[0m\n\u001b[1;32m    350\u001b[0m         \u001b[0;34m:\u001b[0m\u001b[0mrtype\u001b[0m\u001b[0;34m:\u001b[0m\u001b[0;34m\u001b[0m\u001b[0m\n\u001b[1;32m    351\u001b[0m         \"\"\"\n\u001b[0;32m--> 352\u001b[0;31m         \u001b[0mpose_data\u001b[0m \u001b[0;34m=\u001b[0m \u001b[0mself\u001b[0m\u001b[0;34m.\u001b[0m\u001b[0mget_pose_data\u001b[0m\u001b[0;34m(\u001b[0m\u001b[0mscene_name\u001b[0m\u001b[0;34m)\u001b[0m\u001b[0;34m\u001b[0m\u001b[0m\n\u001b[0m\u001b[1;32m    353\u001b[0m         \u001b[0mimage_idxs\u001b[0m \u001b[0;34m=\u001b[0m \u001b[0mpose_data\u001b[0m\u001b[0;34m.\u001b[0m\u001b[0mkeys\u001b[0m\u001b[0;34m(\u001b[0m\u001b[0;34m)\u001b[0m \u001b[0;31m# list of integers\u001b[0m\u001b[0;34m\u001b[0m\u001b[0m\n\u001b[1;32m    354\u001b[0m         \u001b[0mrandom\u001b[0m\u001b[0;34m.\u001b[0m\u001b[0mchoice\u001b[0m\u001b[0;34m(\u001b[0m\u001b[0mimage_idxs\u001b[0m\u001b[0;34m)\u001b[0m\u001b[0;34m\u001b[0m\u001b[0m\n",
      "\u001b[0;32m/home/priya/code/dense_correspondence/dataset/spartan_dataset_masked.pyc\u001b[0m in \u001b[0;36mget_pose_data\u001b[0;34m(self, scene_name)\u001b[0m\n\u001b[1;32m    274\u001b[0m             pose_data_filename = os.path.join(self.get_full_path_for_scene(scene_name),\n\u001b[1;32m    275\u001b[0m                                               'images', 'pose_data.yaml')\n\u001b[0;32m--> 276\u001b[0;31m             \u001b[0mself\u001b[0m\u001b[0;34m.\u001b[0m\u001b[0m_pose_data\u001b[0m\u001b[0;34m[\u001b[0m\u001b[0mscene_name\u001b[0m\u001b[0;34m]\u001b[0m \u001b[0;34m=\u001b[0m \u001b[0mutils\u001b[0m\u001b[0;34m.\u001b[0m\u001b[0mgetDictFromYamlFilename\u001b[0m\u001b[0;34m(\u001b[0m\u001b[0mpose_data_filename\u001b[0m\u001b[0;34m)\u001b[0m\u001b[0;34m\u001b[0m\u001b[0m\n\u001b[0m\u001b[1;32m    277\u001b[0m \u001b[0;34m\u001b[0m\u001b[0m\n\u001b[1;32m    278\u001b[0m         \u001b[0;32mreturn\u001b[0m \u001b[0mself\u001b[0m\u001b[0;34m.\u001b[0m\u001b[0m_pose_data\u001b[0m\u001b[0;34m[\u001b[0m\u001b[0mscene_name\u001b[0m\u001b[0;34m]\u001b[0m\u001b[0;34m\u001b[0m\u001b[0m\n",
      "\u001b[0;32m/home/priya/code/modules/dense_correspondence_manipulation/utils/utils.pyc\u001b[0m in \u001b[0;36mgetDictFromYamlFilename\u001b[0;34m(filename)\u001b[0m\n\u001b[1;32m     18\u001b[0m     \u001b[0mRead\u001b[0m \u001b[0mdata\u001b[0m \u001b[0;32mfrom\u001b[0m \u001b[0ma\u001b[0m \u001b[0mYAML\u001b[0m \u001b[0mfiles\u001b[0m\u001b[0;34m\u001b[0m\u001b[0m\n\u001b[1;32m     19\u001b[0m     \"\"\"\n\u001b[0;32m---> 20\u001b[0;31m     \u001b[0;32mreturn\u001b[0m \u001b[0myaml\u001b[0m\u001b[0;34m.\u001b[0m\u001b[0mload\u001b[0m\u001b[0;34m(\u001b[0m\u001b[0mfile\u001b[0m\u001b[0;34m(\u001b[0m\u001b[0mfilename\u001b[0m\u001b[0;34m)\u001b[0m\u001b[0;34m,\u001b[0m \u001b[0mLoader\u001b[0m\u001b[0;34m=\u001b[0m\u001b[0mCLoader\u001b[0m\u001b[0;34m)\u001b[0m\u001b[0;34m\u001b[0m\u001b[0m\n\u001b[0m\u001b[1;32m     21\u001b[0m \u001b[0;34m\u001b[0m\u001b[0m\n\u001b[1;32m     22\u001b[0m \u001b[0;32mdef\u001b[0m \u001b[0msaveToYaml\u001b[0m\u001b[0;34m(\u001b[0m\u001b[0mdata\u001b[0m\u001b[0;34m,\u001b[0m \u001b[0mfilename\u001b[0m\u001b[0;34m)\u001b[0m\u001b[0;34m:\u001b[0m\u001b[0;34m\u001b[0m\u001b[0m\n",
      "\u001b[0;31mIOError\u001b[0m: [Errno 2] No such file or directory: '/home/priya/code/data_volume/pdc/logs_proto/2018-04-10-16-02-59/processed/images/pose_data.yaml'"
     ]
    }
   ],
   "source": [
    "%matplotlib inline\n",
    "import dense_correspondence_manipulation.utils.utils as utils\n",
    "utils.add_dense_correspondence_to_python_path()\n",
    "import correspondence_plotter\n",
    "from dense_correspondence.dataset.spartan_dataset_masked import SpartanDataset\n",
    "import os\n",
    "import numpy as np\n",
    "\n",
    "\n",
    "config_filename = os.path.join(utils.getDenseCorrespondenceSourceDir(), 'config', 'dense_correspondence', \n",
    "                               'dataset', 'composite', 'caterpillar_only.yaml')\n",
    "config = utils.getDictFromYamlFilename(config_filename)\n",
    "dataset = SpartanDataset(config=config)\n",
    "\n",
    "import correspondence_finder\n",
    "import time\n",
    "uv_a = (300,200)\n",
    "\n",
    "scene = \"2018-04-10-16-02-59\"\n",
    "img_a_index = dataset.get_random_image_index(scene)\n",
    "img_a_rgb, img_a_depth, _, img_a_pose = dataset.get_rgbd_mask_pose(scene, img_a_index)\n",
    "\n",
    "img_b_index = dataset.get_img_idx_with_different_pose(scene, img_a_pose, num_attempts=50)\n",
    "img_b_rgb, img_b_depth, _, img_b_pose = dataset.get_rgbd_mask_pose(scene, img_b_index)\n",
    "\n",
    "img_a_depth_numpy = np.asarray(img_a_depth)\n",
    "img_b_depth_numpy = np.asarray(img_b_depth)\n",
    "\n",
    "start = time.time()\n",
    "uv_a = (300,200)\n",
    "uv_a, uv_b = correspondence_finder.batch_find_pixel_correspondences(img_a_depth_numpy, img_a_pose, \n",
    "                                                                    img_b_depth_numpy, img_b_pose,\n",
    "                                                                    uv_a=uv_a)\n",
    "print time.time() - start, \"seconds\"\n",
    "if uv_a is not None:\n",
    "    correspondence_plotter.plot_correspondences_direct(img_a_rgb, img_a_depth_numpy, img_b_rgb, img_b_depth_numpy, uv_a, uv_b)\n",
    "else:\n",
    "    print \"try running this cell again, did not find a correspondence for this pixel\""
   ]
  },
  {
   "cell_type": "markdown",
   "metadata": {},
   "source": [
    "## PyTorch implementation -- finding many correspondences\n",
    "\n",
    "Note that in this example, about 1/10 get pruned due to either:\n",
    "\n",
    "1. No depth measurement in image a\n",
    "2. Reprojection is outside FOV of image b\n",
    "3. Occluded: the point from image a is occluded in image b\n",
    "4. No depth measurement in image b (so can't be sure if occluded or not)"
   ]
  },
  {
   "cell_type": "code",
   "execution_count": 2,
   "metadata": {},
   "outputs": [
    {
     "ename": "NameError",
     "evalue": "name 'img_a_depth_numpy' is not defined",
     "output_type": "error",
     "traceback": [
      "\u001b[0;31m---------------------------------------------------------------------------\u001b[0m",
      "\u001b[0;31mNameError\u001b[0m                                 Traceback (most recent call last)",
      "\u001b[0;32m<ipython-input-2-a038a3743863>\u001b[0m in \u001b[0;36m<module>\u001b[0;34m()\u001b[0m\n\u001b[1;32m      1\u001b[0m \u001b[0mstart\u001b[0m \u001b[0;34m=\u001b[0m \u001b[0mtime\u001b[0m\u001b[0;34m.\u001b[0m\u001b[0mtime\u001b[0m\u001b[0;34m(\u001b[0m\u001b[0;34m)\u001b[0m\u001b[0;34m\u001b[0m\u001b[0m\n\u001b[1;32m      2\u001b[0m \u001b[0mnum_attempts\u001b[0m \u001b[0;34m=\u001b[0m \u001b[0;36m50\u001b[0m\u001b[0;34m\u001b[0m\u001b[0m\n\u001b[0;32m----> 3\u001b[0;31m uv_a, uv_b = correspondence_finder.batch_find_pixel_correspondences(img_a_depth_numpy, img_a_pose, \n\u001b[0m\u001b[1;32m      4\u001b[0m                                                                     \u001b[0mimg_b_depth_numpy\u001b[0m\u001b[0;34m,\u001b[0m \u001b[0mimg_b_pose\u001b[0m\u001b[0;34m,\u001b[0m\u001b[0;34m\u001b[0m\u001b[0m\n\u001b[1;32m      5\u001b[0m                                                                     num_attempts=num_attempts)\n",
      "\u001b[0;31mNameError\u001b[0m: name 'img_a_depth_numpy' is not defined"
     ]
    }
   ],
   "source": [
    "start = time.time()\n",
    "num_attempts = 50\n",
    "uv_a, uv_b = correspondence_finder.batch_find_pixel_correspondences(img_a_depth_numpy, img_a_pose, \n",
    "                                                                    img_b_depth_numpy, img_b_pose, \n",
    "                                                                    num_attempts=num_attempts)\n",
    "print time.time() - start, \"seconds\"\n",
    "print \"num attempted: \", num_attempts\n",
    "print \"num valid:     \", len(uv_a[0])\n",
    "if uv_a is not None:\n",
    "    correspondence_plotter.plot_correspondences_direct(img_a_rgb, img_a_depth_numpy, img_b_rgb, img_b_depth_numpy, uv_a, uv_b)"
   ]
  },
  {
   "cell_type": "markdown",
   "metadata": {},
   "source": [
    "## On CPU, how fast can we do many, many samples? (many samples, let's not plot)"
   ]
  },
  {
   "cell_type": "code",
   "execution_count": null,
   "metadata": {},
   "outputs": [],
   "source": [
    "num_attempts = 50000\n",
    "\n",
    "img_a_index = dataset.get_random_image_index(scene)\n",
    "img_a_rgb, img_a_depth, _, img_a_pose = dataset.get_rgbd_mask_pose(scene, img_a_index)\n",
    "\n",
    "img_b_index = dataset.get_img_idx_with_different_pose(scene, img_a_pose, num_attempts=50)\n",
    "img_b_rgb, img_b_depth, _, img_b_pose = dataset.get_rgbd_mask_pose(scene, img_b_index)\n",
    "\n",
    "img_a_depth_numpy = np.asarray(img_a_depth)\n",
    "img_b_depth_numpy = np.asarray(img_b_depth)\n",
    "\n",
    "start = time.time()\n",
    "uv_a, uv_b = correspondence_finder.batch_find_pixel_correspondences(img_a_depth_numpy, img_a_pose, \n",
    "                                                                    img_b_depth_numpy, img_b_pose,\n",
    "                                                                    num_attempts=num_attempts,\n",
    "                                                                    device='CPU')\n",
    "\n",
    "print time.time() - start, \"seconds 1st time\"\n",
    "print \"num attempted: \", num_attempts\n",
    "print \"num valid:     \", len(uv_a[0])\n",
    "\n",
    "start = time.time()\n",
    "uv_a, uv_b = correspondence_finder.batch_find_pixel_correspondences(img_a_depth_numpy, img_a_pose, \n",
    "                                                                    img_b_depth_numpy, img_b_pose,\n",
    "                                                                    num_attempts=num_attempts,\n",
    "                                                                    device='CPU')\n",
    "\n",
    "print time.time() - start, \"seconds 2nd time\"\n",
    "print \"num attempted: \", num_attempts\n",
    "print \"num valid:     \", len(uv_a[0])\n",
    "\n",
    "img_a_index = dataset.get_random_image_index(scene)\n",
    "img_a_rgb, img_a_depth, _, img_a_pose = dataset.get_rgbd_mask_pose(scene, img_a_index)\n",
    "\n",
    "img_b_index = dataset.get_img_idx_with_different_pose(scene, img_a_pose, num_attempts=50)\n",
    "img_b_rgb, img_b_depth, _, img_b_pose = dataset.get_rgbd_mask_pose(scene, img_b_index)\n",
    "\n",
    "img_a_depth_numpy = np.asarray(img_a_depth)\n",
    "img_b_depth_numpy = np.asarray(img_b_depth)\n",
    "\n",
    "start = time.time()\n",
    "uv_a, uv_b = correspondence_finder.batch_find_pixel_correspondences(img_a_depth_numpy, img_a_pose, \n",
    "                                                                    img_b_depth_numpy, img_b_pose,\n",
    "                                                                    num_attempts=num_attempts,\n",
    "                                                                    device='CPU')\n",
    "print time.time() - start, \"seconds on a new image pair\"\n",
    "print \"num attempted: \", num_attempts\n",
    "print \"num valid:     \", len(uv_a[0])"
   ]
  },
  {
   "cell_type": "markdown",
   "metadata": {},
   "source": [
    "## On GPU, how fast?"
   ]
  },
  {
   "cell_type": "code",
   "execution_count": null,
   "metadata": {},
   "outputs": [],
   "source": [
    "num_attempts = 50000\n",
    "\n",
    "img_a_index = dataset.get_random_image_index(scene)\n",
    "img_a_rgb, img_a_depth, _, img_a_pose = dataset.get_rgbd_mask_pose(scene, img_a_index)\n",
    "\n",
    "img_b_index = dataset.get_img_idx_with_different_pose(scene, img_a_pose, num_attempts=50)\n",
    "img_b_rgb, img_b_depth, _, img_b_pose = dataset.get_rgbd_mask_pose(scene, img_b_index)\n",
    "\n",
    "img_a_depth_numpy = np.asarray(img_a_depth)\n",
    "img_b_depth_numpy = np.asarray(img_b_depth)\n",
    "\n",
    "start = time.time()\n",
    "uv_a, uv_b = correspondence_finder.batch_find_pixel_correspondences(img_a_depth_numpy, img_a_pose, \n",
    "                                                                    img_b_depth_numpy, img_b_pose,\n",
    "                                                                    num_attempts=num_attempts,\n",
    "                                                                    device='GPU')\n",
    "\n",
    "print time.time() - start, \"seconds 1st time\"\n",
    "print \"num attempted: \", num_attempts\n",
    "print \"num valid:     \", len(uv_a[0])\n",
    "\n",
    "start = time.time()\n",
    "uv_a, uv_b = correspondence_finder.batch_find_pixel_correspondences(img_a_depth_numpy, img_a_pose, \n",
    "                                                                    img_b_depth_numpy, img_b_pose,\n",
    "                                                                    num_attempts=num_attempts,\n",
    "                                                                    device='GPU')\n",
    "\n",
    "print time.time() - start, \"seconds 2nd time\"\n",
    "print \"num attempted: \", num_attempts\n",
    "print \"num valid:     \", len(uv_a[0])\n",
    "\n",
    "img_a_index = dataset.get_random_image_index(scene)\n",
    "img_a_rgb, img_a_depth, _, img_a_pose = dataset.get_rgbd_mask_pose(scene, img_a_index)\n",
    "\n",
    "img_b_index = dataset.get_img_idx_with_different_pose(scene, img_a_pose, num_attempts=50)\n",
    "img_b_rgb, img_b_depth, _, img_b_pose = dataset.get_rgbd_mask_pose(scene, img_b_index)\n",
    "\n",
    "img_a_depth_numpy = np.asarray(img_a_depth)\n",
    "img_b_depth_numpy = np.asarray(img_b_depth)\n",
    "\n",
    "start = time.time()\n",
    "uv_a, uv_b = correspondence_finder.batch_find_pixel_correspondences(img_a_depth_numpy, img_a_pose, \n",
    "                                                                    img_b_depth_numpy, img_b_pose,\n",
    "                                                                    num_attempts=num_attempts,\n",
    "                                                                    device='GPU')\n",
    "print time.time() - start, \"seconds on a new image pair\"\n",
    "print \"num attempted: \", num_attempts\n",
    "print \"num valid:     \", len(uv_a[0])"
   ]
  },
  {
   "cell_type": "markdown",
   "metadata": {},
   "source": [
    "## Timing Comments\n",
    "\n",
    "- Since PyTorch has an asynchronous cuda API, the timing numbers for the GPU version are not really valid\n",
    "- In the end, we actually prefer to perform correspondence matching on CPU, since we can have the PyTorch multithreaded dataset loader be performing correspondence matching in parallel with no cost to the GPU, and then the GPU is reserved for just forwards-backwards passes of the network\n"
   ]
  },
  {
   "cell_type": "markdown",
   "metadata": {},
   "source": [
    "# Non-correspondences"
   ]
  },
  {
   "cell_type": "code",
   "execution_count": null,
   "metadata": {},
   "outputs": [],
   "source": [
    "num_attempts = 5\n",
    "\n",
    "img_a_index = dataset.get_random_image_index(scene)\n",
    "img_a_rgb, img_a_depth, _, img_a_pose = dataset.get_rgbd_mask_pose(scene, img_a_index)\n",
    "\n",
    "img_b_index = dataset.get_img_idx_with_different_pose(scene, img_a_pose, num_attempts=50)\n",
    "img_b_rgb, img_b_depth, _, img_b_pose = dataset.get_rgbd_mask_pose(scene, img_b_index)\n",
    "\n",
    "img_a_depth_numpy = np.asarray(img_a_depth)\n",
    "img_b_depth_numpy = np.asarray(img_b_depth)\n",
    "\n",
    "start = time.time()\n",
    "uv_a, uv_b = correspondence_finder.batch_find_pixel_correspondences(img_a_depth_numpy, img_a_pose, \n",
    "                                                                    img_b_depth_numpy, img_b_pose,\n",
    "                                                                    num_attempts=num_attempts,\n",
    "                                                                    device='CPU')\n",
    "\n",
    "start = time.time()\n",
    "uv_b_non_matches = correspondence_finder.create_non_correspondences(uv_b, img_a_depth_numpy.shape, num_non_matches_per_match=10)\n",
    "print  time.time() - start, \"seconds for non-matches\"\n",
    "if uv_b_non_matches is not None:\n",
    "    print uv_b_non_matches[0].shape\n",
    "\n",
    "    import torch\n",
    "    # This just checks to make sure nothing is out of bounds\n",
    "    print torch.min(uv_b_non_matches[0])\n",
    "    print torch.min(uv_b_non_matches[1])\n",
    "    print torch.max(uv_b_non_matches[0])\n",
    "    print torch.max(uv_b_non_matches[1])\n",
    "    \n",
    "    fig, axes = correspondence_plotter.plot_correspondences_direct(img_a_rgb, img_a_depth_numpy, img_b_rgb, img_b_depth_numpy, uv_a, uv_b, show=False)\n",
    "    uv_a_long = (torch.t(uv_a[0].repeat(3, 1)).contiguous().view(-1,1), torch.t(uv_a[1].repeat(3, 1)).contiguous().view(-1,1))\n",
    "    uv_b_non_matches_long = (uv_b_non_matches[0].view(-1,1), uv_b_non_matches[1].view(-1,1) )\n",
    "    correspondence_plotter.plot_correspondences_direct(img_a_rgb, img_a_depth_numpy, img_b_rgb, img_b_depth_numpy, uv_a_long, uv_b_non_matches_long, use_previous_plot=(fig,axes),\n",
    "                                                  circ_color='r')\n"
   ]
  },
  {
   "cell_type": "markdown",
   "metadata": {},
   "source": [
    "## Note for future:\n",
    "\n",
    "In the plot above (at least at time of this writing), you can see a potential issue that would want a little bit of a refactor.\n",
    "\n",
    "It is currently possible for \"non-matches\" to sample parts of image b for which there is no known depth.\n",
    "\n",
    "This could be an issue for example, if it just so happens that that corner of image b matches image a.\n",
    "\n",
    "Two things though:\n",
    "\n",
    "1. Once I have depths from the actual projection against world model, this will be less of an issue, since there will be less holes.\n",
    "2. That combined with that issue hopefully being rare, means maybe I shouldn't worry about it for now."
   ]
  },
  {
   "cell_type": "code",
   "execution_count": null,
   "metadata": {},
   "outputs": [],
   "source": []
  }
 ],
 "metadata": {
  "kernelspec": {
   "display_name": "Python 2",
   "language": "python",
   "name": "python2"
  },
  "language_info": {
   "codemirror_mode": {
    "name": "ipython",
    "version": 2
   },
   "file_extension": ".py",
   "mimetype": "text/x-python",
   "name": "python",
   "nbconvert_exporter": "python",
   "pygments_lexer": "ipython2",
   "version": "2.7.12"
  }
 },
 "nbformat": 4,
 "nbformat_minor": 2
}
